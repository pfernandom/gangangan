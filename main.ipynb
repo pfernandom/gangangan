{
 "cells": [
  {
   "cell_type": "code",
   "execution_count": 52,
   "metadata": {},
   "outputs": [],
   "source": [
    "import matplotlib.pyplot as plt\n",
    "import numpy as np\n",
    "import tensorflow as tf\n",
    "import time"
   ]
  },
  {
   "cell_type": "code",
   "execution_count": 53,
   "metadata": {},
   "outputs": [],
   "source": [
    "def get_y(x):\n",
    "    return 10 + x*x\n",
    "\n",
    "\n",
    "def sample_data(n=10000, scale=1):\n",
    "    data = []\n",
    "\n",
    "    x = scale*(np.round(np.random.random_sample((n,)).astype(np.float32),decimals=2)-0.5)\n",
    "\n",
    "    for i in range(n):\n",
    "        yi = get_y(x[i])\n",
    "        data.append([x[i], yi])\n",
    "\n",
    "    return np.array(data)"
   ]
  },
  {
   "cell_type": "code",
   "execution_count": 54,
   "metadata": {},
   "outputs": [],
   "source": [
    "def plot(X):\n",
    "    plt.scatter(X[:,0], X[:,1])"
   ]
  },
  {
   "cell_type": "markdown",
   "metadata": {},
   "source": [
    "## Tensorflow variables"
   ]
  },
  {
   "cell_type": "code",
   "execution_count": 55,
   "metadata": {},
   "outputs": [],
   "source": [
    "class GeneratorModel(tf.keras.Model):\n",
    "  def __init__(self, dims=[16,16]):\n",
    "    super().__init__()\n",
    "    self.dense1 = tf.keras.layers.Dense(units=dims[0],\n",
    "                                        activation=tf.nn.leaky_relu)\n",
    "    self.dense2 = tf.keras.layers.Dense(units=dims[1],\n",
    "                                        activation=tf.nn.leaky_relu)\n",
    "    self.dense3 = tf.keras.layers.Dense(units=2)\n",
    "\n",
    "  def call(self, x, training=True):\n",
    "    x = self.dense1(x)\n",
    "    x = self.dense2(x)\n",
    "    return self.dense3(x)\n"
   ]
  },
  {
   "cell_type": "code",
   "execution_count": 56,
   "metadata": {},
   "outputs": [],
   "source": [
    "class DiscrimiatorModel(tf.keras.Model):\n",
    "  def __init__(self, dims=[16,16]):\n",
    "    super().__init__()\n",
    "    self.dense1 = tf.keras.layers.Dense(units=dims[0],\n",
    "                                        activation=tf.nn.leaky_relu)\n",
    "    self.dense2 = tf.keras.layers.Dense(units=dims[1],\n",
    "                                        activation=tf.nn.leaky_relu)\n",
    "    self.dense3 = tf.keras.layers.Dense(units=2)\n",
    "    self.dense4 = tf.keras.layers.Dense(units=1)\n",
    "\n",
    "  def call(self, x, training=True):\n",
    "    x = self.dense1(x)\n",
    "    x = self.dense2(x)\n",
    "    x = self.dense3(x)\n",
    "    out = self.dense4(x)\n",
    "    return out\n",
    "\n",
    "\n",
    "\n"
   ]
  },
  {
   "cell_type": "code",
   "execution_count": 57,
   "metadata": {},
   "outputs": [],
   "source": [
    "gen = GeneratorModel(dims=[32,32])\n",
    "disc = DiscrimiatorModel(dims=[32,32])"
   ]
  },
  {
   "cell_type": "code",
   "execution_count": 58,
   "metadata": {},
   "outputs": [],
   "source": [
    "batch_size = 100"
   ]
  },
  {
   "cell_type": "code",
   "execution_count": 59,
   "metadata": {},
   "outputs": [],
   "source": [
    "def print_values(model):\n",
    "    X = sample_data(n=batch_size)\n",
    "    plt.figure()\n",
    "    plot(X)\n",
    "\n",
    "    Z = tf.random.uniform([batch_size, 2])\n",
    "\n",
    "    x_gen = model(Z, training=False)\n",
    "\n",
    "    plot(x_gen)\n"
   ]
  },
  {
   "cell_type": "code",
   "execution_count": 60,
   "metadata": {},
   "outputs": [
    {
     "data": {
      "image/png": "[encoded data removed]",
      "text/plain": [
       "<Figure size 432x288 with 1 Axes>"
      ]
     },
     "metadata": {
      "needs_background": "light"
     },
     "output_type": "display_data"
    }
   ],
   "source": [
    "print_values(gen)"
   ]
  },
  {
   "cell_type": "code",
   "execution_count": 61,
   "metadata": {},
   "outputs": [],
   "source": [
    "#cross_entropy = tf.keras.losses.BinaryCrossentropy(from_logits=True)\n",
    "def cross_entropy(labels, output):\n",
    "    return tf.nn.sigmoid_cross_entropy_with_logits(logits=output, labels=labels)\n",
    "\n",
    "def discriminator_loss(real_output, fake_output):\n",
    "    real_loss = cross_entropy(tf.ones_like(real_output), real_output)\n",
    "    fake_loss = cross_entropy(tf.zeros_like(fake_output), fake_output)\n",
    "    total_loss = real_loss + fake_loss\n",
    "    return tf.reduce_mean(total_loss)\n",
    "    #return total_loss\n",
    "\n",
    "def generator_loss(fake_output):\n",
    "    return tf.reduce_mean(cross_entropy(tf.ones_like(fake_output), fake_output))\n",
    "    #return cross_entropy(tf.ones_like(fake_output), fake_output)"
   ]
  },
  {
   "cell_type": "code",
   "execution_count": 78,
   "metadata": {},
   "outputs": [
    {
     "name": "stderr",
     "output_type": "stream",
     "text": [
      "2022-06-02 21:13:08.389530: I tensorflow/core/grappler/optimizers/custom_graph_optimizer_registry.cc:112] Plugin optimizer for device_type GPU is enabled.\n"
     ]
    },
    {
     "name": "stdout",
     "output_type": "stream",
     "text": [
      "Gen. Mean squared error: 0.744\n",
      "Disc. Mean squared error: 1.269\n",
      "Distance: 0.479\n",
      "Gen. Mean squared error: 0.689\n",
      "Disc. Mean squared error: 1.370\n",
      "Distance: 0.296\n",
      "Gen. Mean squared error: 1.385\n",
      "Disc. Mean squared error: 1.253\n",
      "Distance: 0.818\n",
      "Gen. Mean squared error: 0.614\n",
      "Disc. Mean squared error: 1.413\n",
      "Distance: 0.307\n",
      "Gen. Mean squared error: 0.993\n",
      "Disc. Mean squared error: 1.475\n",
      "Distance: 3.014\n",
      "Gen. Mean squared error: 1.363\n",
      "Disc. Mean squared error: 1.074\n",
      "Distance: 0.648\n",
      "Gen. Mean squared error: 0.853\n",
      "Disc. Mean squared error: 1.010\n",
      "Distance: 0.925\n",
      "Gen. Mean squared error: 0.690\n",
      "Disc. Mean squared error: 1.388\n",
      "Distance: 0.189\n",
      "Gen. Mean squared error: 0.712\n",
      "Disc. Mean squared error: 1.428\n",
      "Distance: 0.720\n",
      "Gen. Mean squared error: 0.755\n",
      "Disc. Mean squared error: 1.519\n",
      "Distance: 0.985\n",
      "Gen. Mean squared error: 0.816\n",
      "Disc. Mean squared error: 1.423\n",
      "Distance: 0.572\n",
      "Gen. Mean squared error: 0.672\n",
      "Disc. Mean squared error: 1.380\n",
      "Distance: 0.274\n",
      "Gen. Mean squared error: 0.686\n",
      "Disc. Mean squared error: 1.404\n",
      "Distance: 0.299\n",
      "Gen. Mean squared error: 0.677\n",
      "Disc. Mean squared error: 1.391\n",
      "Distance: 0.280\n",
      "Gen. Mean squared error: 0.680\n",
      "Disc. Mean squared error: 1.380\n",
      "Distance: 0.236\n",
      "Gen. Mean squared error: 1.444\n",
      "Disc. Mean squared error: 4.210\n",
      "Distance: 1.458\n",
      "Gen. Mean squared error: 1.224\n",
      "Disc. Mean squared error: 0.849\n",
      "Distance: 2.577\n",
      "Gen. Mean squared error: 0.728\n",
      "Disc. Mean squared error: 1.388\n",
      "Distance: 0.314\n",
      "Gen. Mean squared error: 0.251\n",
      "Disc. Mean squared error: 1.801\n",
      "Distance: 0.474\n",
      "Gen. Mean squared error: 0.496\n",
      "Disc. Mean squared error: 1.455\n",
      "Distance: 0.583\n",
      "Gen. Mean squared error: 0.705\n",
      "Disc. Mean squared error: 1.404\n",
      "Distance: 0.181\n",
      "Gen. Mean squared error: 0.587\n",
      "Disc. Mean squared error: 1.460\n",
      "Distance: 0.785\n",
      "Gen. Mean squared error: 0.596\n",
      "Disc. Mean squared error: 1.646\n",
      "Distance: 1.309\n",
      "Gen. Mean squared error: 1.067\n",
      "Disc. Mean squared error: 1.494\n",
      "Distance: 0.478\n",
      "Gen. Mean squared error: 0.484\n",
      "Disc. Mean squared error: 1.502\n",
      "Distance: 0.510\n",
      "Gen. Mean squared error: 0.751\n",
      "Disc. Mean squared error: 1.382\n",
      "Distance: 0.217\n",
      "Gen. Mean squared error: 0.702\n",
      "Disc. Mean squared error: 1.370\n",
      "Distance: 0.306\n",
      "Gen. Mean squared error: 0.663\n",
      "Disc. Mean squared error: 1.340\n",
      "Distance: 0.411\n",
      "Gen. Mean squared error: 0.713\n",
      "Disc. Mean squared error: 1.342\n",
      "Distance: 0.684\n",
      "Gen. Mean squared error: 0.403\n",
      "Disc. Mean squared error: 1.716\n",
      "Distance: 0.391\n",
      "Gen. Mean squared error: 0.698\n",
      "Disc. Mean squared error: 1.380\n",
      "Distance: 0.531\n",
      "Gen. Mean squared error: 4.149\n",
      "Disc. Mean squared error: 2.383\n",
      "Distance: 5.246\n",
      "Gen. Mean squared error: 0.662\n",
      "Disc. Mean squared error: 1.395\n",
      "Distance: 0.211\n",
      "Gen. Mean squared error: 1.299\n",
      "Disc. Mean squared error: 1.018\n",
      "Distance: 0.557\n",
      "Gen. Mean squared error: 0.648\n",
      "Disc. Mean squared error: 1.381\n",
      "Distance: 0.355\n",
      "Gen. Mean squared error: 1.605\n",
      "Disc. Mean squared error: 0.970\n",
      "Distance: 2.630\n",
      "Gen. Mean squared error: 1.170\n",
      "Disc. Mean squared error: 1.337\n",
      "Distance: 3.844\n",
      "Gen. Mean squared error: 0.463\n",
      "Disc. Mean squared error: 1.663\n",
      "Distance: 0.435\n",
      "Gen. Mean squared error: 0.826\n",
      "Disc. Mean squared error: 1.430\n",
      "Distance: 3.670\n",
      "Gen. Mean squared error: 0.666\n",
      "Disc. Mean squared error: 1.385\n",
      "Distance: 0.288\n",
      "Gen. Mean squared error: 2.855\n",
      "Disc. Mean squared error: 0.908\n",
      "Distance: 1.195\n",
      "Gen. Mean squared error: 0.684\n",
      "Disc. Mean squared error: 1.380\n",
      "Distance: 0.162\n",
      "Gen. Mean squared error: 0.711\n",
      "Disc. Mean squared error: 1.387\n",
      "Distance: 0.346\n",
      "Gen. Mean squared error: 0.603\n",
      "Disc. Mean squared error: 1.386\n",
      "Distance: 0.216\n",
      "Gen. Mean squared error: 0.678\n",
      "Disc. Mean squared error: 1.387\n",
      "Distance: 0.325\n",
      "Gen. Mean squared error: 28.445\n",
      "Disc. Mean squared error: 0.198\n",
      "Distance: 1.927\n",
      "Gen. Mean squared error: 0.655\n",
      "Disc. Mean squared error: 1.438\n",
      "Distance: 0.246\n",
      "Gen. Mean squared error: 0.696\n",
      "Disc. Mean squared error: 1.369\n",
      "Distance: 0.403\n",
      "Gen. Mean squared error: 0.006\n",
      "Disc. Mean squared error: 5.295\n",
      "Distance: 0.635\n",
      "Gen. Mean squared error: 0.704\n",
      "Disc. Mean squared error: 1.403\n",
      "Distance: 0.947\n",
      "Gen. Mean squared error: 0.850\n",
      "Disc. Mean squared error: 1.189\n",
      "Distance: 1.459\n",
      "Gen. Mean squared error: 0.631\n",
      "Disc. Mean squared error: 1.293\n",
      "Distance: 1.255\n",
      "Gen. Mean squared error: 0.631\n",
      "Disc. Mean squared error: 1.315\n",
      "Distance: 0.612\n",
      "Gen. Mean squared error: 0.468\n",
      "Disc. Mean squared error: 1.394\n",
      "Distance: 0.194\n",
      "Gen. Mean squared error: 0.670\n",
      "Disc. Mean squared error: 1.383\n",
      "Distance: 0.177\n",
      "Gen. Mean squared error: 0.629\n",
      "Disc. Mean squared error: 1.551\n",
      "Distance: 0.366\n",
      "Gen. Mean squared error: 1.518\n",
      "Disc. Mean squared error: 1.799\n",
      "Distance: 0.195\n",
      "Gen. Mean squared error: 0.742\n",
      "Disc. Mean squared error: 1.332\n",
      "Distance: 0.622\n",
      "Gen. Mean squared error: 0.408\n",
      "Disc. Mean squared error: 1.636\n",
      "Distance: 0.205\n",
      "Gen. Mean squared error: 0.639\n",
      "Disc. Mean squared error: 1.339\n",
      "Distance: 0.411\n",
      "Gen. Mean squared error: 0.809\n",
      "Disc. Mean squared error: 1.368\n",
      "Distance: 0.416\n",
      "Gen. Mean squared error: 0.706\n",
      "Disc. Mean squared error: 1.381\n",
      "Distance: 0.184\n",
      "Gen. Mean squared error: 0.693\n",
      "Disc. Mean squared error: 1.380\n",
      "Distance: 0.195\n",
      "Gen. Mean squared error: 0.726\n",
      "Disc. Mean squared error: 1.395\n",
      "Distance: 0.170\n",
      "Gen. Mean squared error: 0.702\n",
      "Disc. Mean squared error: 1.383\n",
      "Distance: 0.453\n",
      "Gen. Mean squared error: 0.664\n",
      "Disc. Mean squared error: 1.421\n",
      "Distance: 1.267\n",
      "Gen. Mean squared error: 0.694\n",
      "Disc. Mean squared error: 1.363\n",
      "Distance: 0.386\n",
      "Gen. Mean squared error: 0.658\n",
      "Disc. Mean squared error: 1.384\n",
      "Distance: 0.368\n",
      "Gen. Mean squared error: 0.614\n",
      "Disc. Mean squared error: 1.544\n",
      "Distance: 1.307\n",
      "Gen. Mean squared error: 0.547\n",
      "Disc. Mean squared error: 1.233\n",
      "Distance: 0.942\n",
      "Gen. Mean squared error: 1.189\n",
      "Disc. Mean squared error: 1.461\n",
      "Distance: 0.301\n",
      "Gen. Mean squared error: 0.698\n",
      "Disc. Mean squared error: 1.385\n",
      "Distance: 0.271\n",
      "Gen. Mean squared error: 0.675\n",
      "Disc. Mean squared error: 1.432\n",
      "Distance: 0.392\n",
      "Gen. Mean squared error: 0.663\n",
      "Disc. Mean squared error: 1.402\n",
      "Distance: 0.223\n",
      "Gen. Mean squared error: 0.351\n",
      "Disc. Mean squared error: 1.912\n",
      "Distance: 0.494\n",
      "Gen. Mean squared error: 0.679\n",
      "Disc. Mean squared error: 1.441\n",
      "Distance: 0.343\n",
      "Gen. Mean squared error: 0.745\n",
      "Disc. Mean squared error: 1.435\n",
      "Distance: 0.336\n",
      "Gen. Mean squared error: 0.628\n",
      "Disc. Mean squared error: 1.435\n",
      "Distance: 0.389\n",
      "Gen. Mean squared error: 0.571\n",
      "Disc. Mean squared error: 1.312\n",
      "Distance: 0.276\n",
      "Gen. Mean squared error: 0.719\n",
      "Disc. Mean squared error: 1.363\n",
      "Distance: 0.172\n",
      "Gen. Mean squared error: 1.535\n",
      "Disc. Mean squared error: 1.072\n",
      "Distance: 5.445\n",
      "Gen. Mean squared error: 0.676\n",
      "Disc. Mean squared error: 1.380\n",
      "Distance: 0.191\n",
      "Gen. Mean squared error: 0.671\n",
      "Disc. Mean squared error: 1.354\n",
      "Distance: 0.440\n",
      "Gen. Mean squared error: 0.689\n",
      "Disc. Mean squared error: 1.368\n",
      "Distance: 0.227\n",
      "Gen. Mean squared error: 0.545\n",
      "Disc. Mean squared error: 1.459\n",
      "Distance: 0.196\n",
      "Gen. Mean squared error: 0.711\n",
      "Disc. Mean squared error: 1.382\n",
      "Distance: 0.480\n",
      "Gen. Mean squared error: 0.681\n",
      "Disc. Mean squared error: 1.387\n",
      "Distance: 0.164\n",
      "Gen. Mean squared error: 0.710\n",
      "Disc. Mean squared error: 1.344\n",
      "Distance: 0.269\n",
      "Gen. Mean squared error: 0.015\n",
      "Disc. Mean squared error: 4.215\n",
      "Distance: 0.374\n",
      "Gen. Mean squared error: 1.087\n",
      "Disc. Mean squared error: 1.674\n",
      "Distance: 0.185\n",
      "Gen. Mean squared error: 0.664\n",
      "Disc. Mean squared error: 1.384\n",
      "Distance: 0.311\n",
      "Gen. Mean squared error: 0.728\n",
      "Disc. Mean squared error: 1.395\n",
      "Distance: 0.249\n",
      "Gen. Mean squared error: 1.662\n",
      "Disc. Mean squared error: 0.941\n",
      "Distance: 1.322\n",
      "Gen. Mean squared error: 0.658\n",
      "Disc. Mean squared error: 1.456\n",
      "Distance: 0.401\n",
      "Gen. Mean squared error: 0.659\n",
      "Disc. Mean squared error: 1.405\n",
      "Distance: 0.311\n",
      "Gen. Mean squared error: 0.870\n",
      "Disc. Mean squared error: 1.251\n",
      "Distance: 0.905\n",
      "Gen. Mean squared error: 0.935\n",
      "Disc. Mean squared error: 1.375\n",
      "Distance: 0.438\n",
      "Gen. Mean squared error: 1.019\n",
      "Disc. Mean squared error: 3.684\n",
      "Distance: 0.589\n",
      "Gen. Mean squared error: 0.723\n",
      "Disc. Mean squared error: 1.385\n",
      "Distance: 0.172\n",
      "Gen. Mean squared error: 0.706\n",
      "Disc. Mean squared error: 1.354\n",
      "Distance: 0.768\n",
      "Gen. Mean squared error: 0.766\n",
      "Disc. Mean squared error: 1.453\n",
      "Distance: 0.195\n",
      "Gen. Mean squared error: 0.952\n",
      "Disc. Mean squared error: 1.149\n",
      "Distance: 0.430\n",
      "Gen. Mean squared error: 0.744\n",
      "Disc. Mean squared error: 1.370\n",
      "Distance: 0.322\n",
      "Gen. Mean squared error: 0.673\n",
      "Disc. Mean squared error: 1.397\n",
      "Distance: 0.187\n",
      "Gen. Mean squared error: 0.665\n",
      "Disc. Mean squared error: 1.382\n",
      "Distance: 0.480\n",
      "Gen. Mean squared error: 0.693\n",
      "Disc. Mean squared error: 1.385\n",
      "Distance: 0.181\n",
      "Gen. Mean squared error: 0.814\n",
      "Disc. Mean squared error: 1.306\n",
      "Distance: 0.380\n"
     ]
    },
    {
     "ename": "KeyboardInterrupt",
     "evalue": "",
     "output_type": "error",
     "traceback": [
      "\u001b[0;31m---------------------------------------------------------------------------\u001b[0m",
      "\u001b[0;31mKeyboardInterrupt\u001b[0m                         Traceback (most recent call last)",
      "\u001b[1;32m/Users/pmarquez/Code/GAN/simple-gan/main.ipynb Cell 12'\u001b[0m in \u001b[0;36m<module>\u001b[0;34m\u001b[0m\n\u001b[1;32m     <a href='vscode-notebook-cell:/Users/pmarquez/Code/GAN/simple-gan/main.ipynb#ch0000019?line=43'>44</a>\u001b[0m \u001b[39mfor\u001b[39;00m step \u001b[39min\u001b[39;00m \u001b[39mrange\u001b[39m(\u001b[39m20001\u001b[39m):\n\u001b[1;32m     <a href='vscode-notebook-cell:/Users/pmarquez/Code/GAN/simple-gan/main.ipynb#ch0000019?line=44'>45</a>\u001b[0m   X \u001b[39m=\u001b[39m sample_data(n\u001b[39m=\u001b[39mbatch_size)\n\u001b[0;32m---> <a href='vscode-notebook-cell:/Users/pmarquez/Code/GAN/simple-gan/main.ipynb#ch0000019?line=45'>46</a>\u001b[0m   gen_loss, disc_loss, dist \u001b[39m=\u001b[39m train_step(X)\n\u001b[1;32m     <a href='vscode-notebook-cell:/Users/pmarquez/Code/GAN/simple-gan/main.ipynb#ch0000019?line=46'>47</a>\u001b[0m   list_gen_loss\u001b[39m.\u001b[39mappend(gen_loss\u001b[39m.\u001b[39mnumpy())\n\u001b[1;32m     <a href='vscode-notebook-cell:/Users/pmarquez/Code/GAN/simple-gan/main.ipynb#ch0000019?line=47'>48</a>\u001b[0m   list_disc_loss\u001b[39m.\u001b[39mappend(disc_loss\u001b[39m.\u001b[39mnumpy())\n",
      "File \u001b[0;32m~/miniforge3/envs/py38/lib/python3.8/site-packages/tensorflow/python/util/traceback_utils.py:150\u001b[0m, in \u001b[0;36mfilter_traceback.<locals>.error_handler\u001b[0;34m(*args, **kwargs)\u001b[0m\n\u001b[1;32m    <a href='file:///Users/pmarquez/miniforge3/envs/py38/lib/python3.8/site-packages/tensorflow/python/util/traceback_utils.py?line=147'>148</a>\u001b[0m filtered_tb \u001b[39m=\u001b[39m \u001b[39mNone\u001b[39;00m\n\u001b[1;32m    <a href='file:///Users/pmarquez/miniforge3/envs/py38/lib/python3.8/site-packages/tensorflow/python/util/traceback_utils.py?line=148'>149</a>\u001b[0m \u001b[39mtry\u001b[39;00m:\n\u001b[0;32m--> <a href='file:///Users/pmarquez/miniforge3/envs/py38/lib/python3.8/site-packages/tensorflow/python/util/traceback_utils.py?line=149'>150</a>\u001b[0m   \u001b[39mreturn\u001b[39;00m fn(\u001b[39m*\u001b[39;49margs, \u001b[39m*\u001b[39;49m\u001b[39m*\u001b[39;49mkwargs)\n\u001b[1;32m    <a href='file:///Users/pmarquez/miniforge3/envs/py38/lib/python3.8/site-packages/tensorflow/python/util/traceback_utils.py?line=150'>151</a>\u001b[0m \u001b[39mexcept\u001b[39;00m \u001b[39mException\u001b[39;00m \u001b[39mas\u001b[39;00m e:\n\u001b[1;32m    <a href='file:///Users/pmarquez/miniforge3/envs/py38/lib/python3.8/site-packages/tensorflow/python/util/traceback_utils.py?line=151'>152</a>\u001b[0m   filtered_tb \u001b[39m=\u001b[39m _process_traceback_frames(e\u001b[39m.\u001b[39m__traceback__)\n",
      "File \u001b[0;32m~/miniforge3/envs/py38/lib/python3.8/site-packages/tensorflow/python/eager/def_function.py:910\u001b[0m, in \u001b[0;36mFunction.__call__\u001b[0;34m(self, *args, **kwds)\u001b[0m\n\u001b[1;32m    <a href='file:///Users/pmarquez/miniforge3/envs/py38/lib/python3.8/site-packages/tensorflow/python/eager/def_function.py?line=906'>907</a>\u001b[0m compiler \u001b[39m=\u001b[39m \u001b[39m\"\u001b[39m\u001b[39mxla\u001b[39m\u001b[39m\"\u001b[39m \u001b[39mif\u001b[39;00m \u001b[39mself\u001b[39m\u001b[39m.\u001b[39m_jit_compile \u001b[39melse\u001b[39;00m \u001b[39m\"\u001b[39m\u001b[39mnonXla\u001b[39m\u001b[39m\"\u001b[39m\n\u001b[1;32m    <a href='file:///Users/pmarquez/miniforge3/envs/py38/lib/python3.8/site-packages/tensorflow/python/eager/def_function.py?line=908'>909</a>\u001b[0m \u001b[39mwith\u001b[39;00m OptionalXlaContext(\u001b[39mself\u001b[39m\u001b[39m.\u001b[39m_jit_compile):\n\u001b[0;32m--> <a href='file:///Users/pmarquez/miniforge3/envs/py38/lib/python3.8/site-packages/tensorflow/python/eager/def_function.py?line=909'>910</a>\u001b[0m   result \u001b[39m=\u001b[39m \u001b[39mself\u001b[39;49m\u001b[39m.\u001b[39;49m_call(\u001b[39m*\u001b[39;49margs, \u001b[39m*\u001b[39;49m\u001b[39m*\u001b[39;49mkwds)\n\u001b[1;32m    <a href='file:///Users/pmarquez/miniforge3/envs/py38/lib/python3.8/site-packages/tensorflow/python/eager/def_function.py?line=911'>912</a>\u001b[0m new_tracing_count \u001b[39m=\u001b[39m \u001b[39mself\u001b[39m\u001b[39m.\u001b[39mexperimental_get_tracing_count()\n\u001b[1;32m    <a href='file:///Users/pmarquez/miniforge3/envs/py38/lib/python3.8/site-packages/tensorflow/python/eager/def_function.py?line=912'>913</a>\u001b[0m without_tracing \u001b[39m=\u001b[39m (tracing_count \u001b[39m==\u001b[39m new_tracing_count)\n",
      "File \u001b[0;32m~/miniforge3/envs/py38/lib/python3.8/site-packages/tensorflow/python/eager/def_function.py:942\u001b[0m, in \u001b[0;36mFunction._call\u001b[0;34m(self, *args, **kwds)\u001b[0m\n\u001b[1;32m    <a href='file:///Users/pmarquez/miniforge3/envs/py38/lib/python3.8/site-packages/tensorflow/python/eager/def_function.py?line=938'>939</a>\u001b[0m   \u001b[39mself\u001b[39m\u001b[39m.\u001b[39m_lock\u001b[39m.\u001b[39mrelease()\n\u001b[1;32m    <a href='file:///Users/pmarquez/miniforge3/envs/py38/lib/python3.8/site-packages/tensorflow/python/eager/def_function.py?line=939'>940</a>\u001b[0m   \u001b[39m# In this case we have created variables on the first call, so we run the\u001b[39;00m\n\u001b[1;32m    <a href='file:///Users/pmarquez/miniforge3/envs/py38/lib/python3.8/site-packages/tensorflow/python/eager/def_function.py?line=940'>941</a>\u001b[0m   \u001b[39m# defunned version which is guaranteed to never create variables.\u001b[39;00m\n\u001b[0;32m--> <a href='file:///Users/pmarquez/miniforge3/envs/py38/lib/python3.8/site-packages/tensorflow/python/eager/def_function.py?line=941'>942</a>\u001b[0m   \u001b[39mreturn\u001b[39;00m \u001b[39mself\u001b[39;49m\u001b[39m.\u001b[39;49m_stateless_fn(\u001b[39m*\u001b[39;49margs, \u001b[39m*\u001b[39;49m\u001b[39m*\u001b[39;49mkwds)  \u001b[39m# pylint: disable=not-callable\u001b[39;00m\n\u001b[1;32m    <a href='file:///Users/pmarquez/miniforge3/envs/py38/lib/python3.8/site-packages/tensorflow/python/eager/def_function.py?line=942'>943</a>\u001b[0m \u001b[39melif\u001b[39;00m \u001b[39mself\u001b[39m\u001b[39m.\u001b[39m_stateful_fn \u001b[39mis\u001b[39;00m \u001b[39mnot\u001b[39;00m \u001b[39mNone\u001b[39;00m:\n\u001b[1;32m    <a href='file:///Users/pmarquez/miniforge3/envs/py38/lib/python3.8/site-packages/tensorflow/python/eager/def_function.py?line=943'>944</a>\u001b[0m   \u001b[39m# Release the lock early so that multiple threads can perform the call\u001b[39;00m\n\u001b[1;32m    <a href='file:///Users/pmarquez/miniforge3/envs/py38/lib/python3.8/site-packages/tensorflow/python/eager/def_function.py?line=944'>945</a>\u001b[0m   \u001b[39m# in parallel.\u001b[39;00m\n\u001b[1;32m    <a href='file:///Users/pmarquez/miniforge3/envs/py38/lib/python3.8/site-packages/tensorflow/python/eager/def_function.py?line=945'>946</a>\u001b[0m   \u001b[39mself\u001b[39m\u001b[39m.\u001b[39m_lock\u001b[39m.\u001b[39mrelease()\n",
      "File \u001b[0;32m~/miniforge3/envs/py38/lib/python3.8/site-packages/tensorflow/python/eager/function.py:3129\u001b[0m, in \u001b[0;36mFunction.__call__\u001b[0;34m(self, *args, **kwargs)\u001b[0m\n\u001b[1;32m   <a href='file:///Users/pmarquez/miniforge3/envs/py38/lib/python3.8/site-packages/tensorflow/python/eager/function.py?line=3125'>3126</a>\u001b[0m \u001b[39m\"\"\"Calls a graph function specialized to the inputs.\"\"\"\u001b[39;00m\n\u001b[1;32m   <a href='file:///Users/pmarquez/miniforge3/envs/py38/lib/python3.8/site-packages/tensorflow/python/eager/function.py?line=3126'>3127</a>\u001b[0m \u001b[39mwith\u001b[39;00m \u001b[39mself\u001b[39m\u001b[39m.\u001b[39m_lock:\n\u001b[1;32m   <a href='file:///Users/pmarquez/miniforge3/envs/py38/lib/python3.8/site-packages/tensorflow/python/eager/function.py?line=3127'>3128</a>\u001b[0m   (graph_function,\n\u001b[0;32m-> <a href='file:///Users/pmarquez/miniforge3/envs/py38/lib/python3.8/site-packages/tensorflow/python/eager/function.py?line=3128'>3129</a>\u001b[0m    filtered_flat_args) \u001b[39m=\u001b[39m \u001b[39mself\u001b[39;49m\u001b[39m.\u001b[39;49m_maybe_define_function(args, kwargs)\n\u001b[1;32m   <a href='file:///Users/pmarquez/miniforge3/envs/py38/lib/python3.8/site-packages/tensorflow/python/eager/function.py?line=3129'>3130</a>\u001b[0m \u001b[39mreturn\u001b[39;00m graph_function\u001b[39m.\u001b[39m_call_flat(\n\u001b[1;32m   <a href='file:///Users/pmarquez/miniforge3/envs/py38/lib/python3.8/site-packages/tensorflow/python/eager/function.py?line=3130'>3131</a>\u001b[0m     filtered_flat_args, captured_inputs\u001b[39m=\u001b[39mgraph_function\u001b[39m.\u001b[39mcaptured_inputs)\n",
      "File \u001b[0;32m~/miniforge3/envs/py38/lib/python3.8/site-packages/tensorflow/python/eager/function.py:3510\u001b[0m, in \u001b[0;36mFunction._maybe_define_function\u001b[0;34m(self, args, kwargs)\u001b[0m\n\u001b[1;32m   <a href='file:///Users/pmarquez/miniforge3/envs/py38/lib/python3.8/site-packages/tensorflow/python/eager/function.py?line=3485'>3486</a>\u001b[0m \u001b[39m\"\"\"Gets a function for these inputs, defining it if necessary.\u001b[39;00m\n\u001b[1;32m   <a href='file:///Users/pmarquez/miniforge3/envs/py38/lib/python3.8/site-packages/tensorflow/python/eager/function.py?line=3486'>3487</a>\u001b[0m \n\u001b[1;32m   <a href='file:///Users/pmarquez/miniforge3/envs/py38/lib/python3.8/site-packages/tensorflow/python/eager/function.py?line=3487'>3488</a>\u001b[0m \u001b[39m`args` and `kwargs` can be None if this `Function` was created with an\u001b[39;00m\n\u001b[0;32m   (...)\u001b[0m\n\u001b[1;32m   <a href='file:///Users/pmarquez/miniforge3/envs/py38/lib/python3.8/site-packages/tensorflow/python/eager/function.py?line=3505'>3506</a>\u001b[0m \u001b[39m    shape relaxation retracing.\u001b[39;00m\n\u001b[1;32m   <a href='file:///Users/pmarquez/miniforge3/envs/py38/lib/python3.8/site-packages/tensorflow/python/eager/function.py?line=3506'>3507</a>\u001b[0m \u001b[39m\"\"\"\u001b[39;00m\n\u001b[1;32m   <a href='file:///Users/pmarquez/miniforge3/envs/py38/lib/python3.8/site-packages/tensorflow/python/eager/function.py?line=3507'>3508</a>\u001b[0m \u001b[39mif\u001b[39;00m \u001b[39mself\u001b[39m\u001b[39m.\u001b[39minput_signature \u001b[39mis\u001b[39;00m \u001b[39mNone\u001b[39;00m \u001b[39mor\u001b[39;00m args \u001b[39mis\u001b[39;00m \u001b[39mnot\u001b[39;00m \u001b[39mNone\u001b[39;00m \u001b[39mor\u001b[39;00m kwargs \u001b[39mis\u001b[39;00m \u001b[39mnot\u001b[39;00m \u001b[39mNone\u001b[39;00m:\n\u001b[1;32m   <a href='file:///Users/pmarquez/miniforge3/envs/py38/lib/python3.8/site-packages/tensorflow/python/eager/function.py?line=3508'>3509</a>\u001b[0m   args, kwargs, flat_args, filtered_flat_args \u001b[39m=\u001b[39m \\\n\u001b[0;32m-> <a href='file:///Users/pmarquez/miniforge3/envs/py38/lib/python3.8/site-packages/tensorflow/python/eager/function.py?line=3509'>3510</a>\u001b[0m       \u001b[39mself\u001b[39;49m\u001b[39m.\u001b[39;49m_function_spec\u001b[39m.\u001b[39;49mcanonicalize_function_inputs(\u001b[39m*\u001b[39;49margs, \u001b[39m*\u001b[39;49m\u001b[39m*\u001b[39;49mkwargs)\n\u001b[1;32m   <a href='file:///Users/pmarquez/miniforge3/envs/py38/lib/python3.8/site-packages/tensorflow/python/eager/function.py?line=3510'>3511</a>\u001b[0m \u001b[39melse\u001b[39;00m:\n\u001b[1;32m   <a href='file:///Users/pmarquez/miniforge3/envs/py38/lib/python3.8/site-packages/tensorflow/python/eager/function.py?line=3511'>3512</a>\u001b[0m   flat_args, filtered_flat_args \u001b[39m=\u001b[39m [\u001b[39mNone\u001b[39;00m], []\n",
      "File \u001b[0;32m~/miniforge3/envs/py38/lib/python3.8/site-packages/tensorflow/python/eager/function.py:2872\u001b[0m, in \u001b[0;36mFunctionSpec.canonicalize_function_inputs\u001b[0;34m(self, *args, **kwargs)\u001b[0m\n\u001b[1;32m   <a href='file:///Users/pmarquez/miniforge3/envs/py38/lib/python3.8/site-packages/tensorflow/python/eager/function.py?line=2868'>2869</a>\u001b[0m       kwargs\u001b[39m.\u001b[39msetdefault(kwarg, default)\n\u001b[1;32m   <a href='file:///Users/pmarquez/miniforge3/envs/py38/lib/python3.8/site-packages/tensorflow/python/eager/function.py?line=2870'>2871</a>\u001b[0m \u001b[39mif\u001b[39;00m \u001b[39mself\u001b[39m\u001b[39m.\u001b[39m_input_signature \u001b[39mis\u001b[39;00m \u001b[39mNone\u001b[39;00m:\n\u001b[0;32m-> <a href='file:///Users/pmarquez/miniforge3/envs/py38/lib/python3.8/site-packages/tensorflow/python/eager/function.py?line=2871'>2872</a>\u001b[0m   inputs, flat_inputs, filtered_flat_inputs \u001b[39m=\u001b[39m _convert_numpy_inputs(inputs)\n\u001b[1;32m   <a href='file:///Users/pmarquez/miniforge3/envs/py38/lib/python3.8/site-packages/tensorflow/python/eager/function.py?line=2872'>2873</a>\u001b[0m   kwargs, flat_kwargs, filtered_flat_kwargs \u001b[39m=\u001b[39m _convert_numpy_inputs(kwargs)\n\u001b[1;32m   <a href='file:///Users/pmarquez/miniforge3/envs/py38/lib/python3.8/site-packages/tensorflow/python/eager/function.py?line=2873'>2874</a>\u001b[0m   flat_inputs \u001b[39m+\u001b[39m\u001b[39m=\u001b[39m flat_kwargs\n",
      "File \u001b[0;32m~/miniforge3/envs/py38/lib/python3.8/site-packages/tensorflow/python/eager/function.py:2934\u001b[0m, in \u001b[0;36m_convert_numpy_inputs\u001b[0;34m(inputs)\u001b[0m\n\u001b[1;32m   <a href='file:///Users/pmarquez/miniforge3/envs/py38/lib/python3.8/site-packages/tensorflow/python/eager/function.py?line=2930'>2931</a>\u001b[0m \u001b[39mif\u001b[39;00m \u001b[39mnot\u001b[39;00m \u001b[39misinstance\u001b[39m(a, np\u001b[39m.\u001b[39mndarray):\n\u001b[1;32m   <a href='file:///Users/pmarquez/miniforge3/envs/py38/lib/python3.8/site-packages/tensorflow/python/eager/function.py?line=2931'>2932</a>\u001b[0m   \u001b[39mraise\u001b[39;00m \u001b[39mTypeError\u001b[39;00m(\u001b[39mf\u001b[39m\u001b[39m\"\u001b[39m\u001b[39mThe output of __array__ must be an np.ndarray, \u001b[39m\u001b[39m\"\u001b[39m\n\u001b[1;32m   <a href='file:///Users/pmarquez/miniforge3/envs/py38/lib/python3.8/site-packages/tensorflow/python/eager/function.py?line=2932'>2933</a>\u001b[0m                   \u001b[39mf\u001b[39m\u001b[39m\"\u001b[39m\u001b[39mgot \u001b[39m\u001b[39m{\u001b[39;00m\u001b[39mtype\u001b[39m(a)\u001b[39m}\u001b[39;00m\u001b[39m from \u001b[39m\u001b[39m{\u001b[39;00mvalue\u001b[39m}\u001b[39;00m\u001b[39m.\u001b[39m\u001b[39m\"\u001b[39m)\n\u001b[0;32m-> <a href='file:///Users/pmarquez/miniforge3/envs/py38/lib/python3.8/site-packages/tensorflow/python/eager/function.py?line=2933'>2934</a>\u001b[0m flat_inputs[index] \u001b[39m=\u001b[39m constant_op\u001b[39m.\u001b[39;49mconstant(a)\n\u001b[1;32m   <a href='file:///Users/pmarquez/miniforge3/envs/py38/lib/python3.8/site-packages/tensorflow/python/eager/function.py?line=2934'>2935</a>\u001b[0m filtered_flat_inputs\u001b[39m.\u001b[39mappend(flat_inputs[index])\n\u001b[1;32m   <a href='file:///Users/pmarquez/miniforge3/envs/py38/lib/python3.8/site-packages/tensorflow/python/eager/function.py?line=2935'>2936</a>\u001b[0m need_packing \u001b[39m=\u001b[39m \u001b[39mTrue\u001b[39;00m\n",
      "File \u001b[0;32m~/miniforge3/envs/py38/lib/python3.8/site-packages/tensorflow/python/framework/constant_op.py:271\u001b[0m, in \u001b[0;36mconstant\u001b[0;34m(value, dtype, shape, name)\u001b[0m\n\u001b[1;32m    <a href='file:///Users/pmarquez/miniforge3/envs/py38/lib/python3.8/site-packages/tensorflow/python/framework/constant_op.py?line=173'>174</a>\u001b[0m \u001b[39m@tf_export\u001b[39m(\u001b[39m\"\u001b[39m\u001b[39mconstant\u001b[39m\u001b[39m\"\u001b[39m, v1\u001b[39m=\u001b[39m[])\n\u001b[1;32m    <a href='file:///Users/pmarquez/miniforge3/envs/py38/lib/python3.8/site-packages/tensorflow/python/framework/constant_op.py?line=174'>175</a>\u001b[0m \u001b[39mdef\u001b[39;00m \u001b[39mconstant\u001b[39m(value, dtype\u001b[39m=\u001b[39m\u001b[39mNone\u001b[39;00m, shape\u001b[39m=\u001b[39m\u001b[39mNone\u001b[39;00m, name\u001b[39m=\u001b[39m\u001b[39m\"\u001b[39m\u001b[39mConst\u001b[39m\u001b[39m\"\u001b[39m):\n\u001b[1;32m    <a href='file:///Users/pmarquez/miniforge3/envs/py38/lib/python3.8/site-packages/tensorflow/python/framework/constant_op.py?line=175'>176</a>\u001b[0m   \u001b[39m\"\"\"Creates a constant tensor from a tensor-like object.\u001b[39;00m\n\u001b[1;32m    <a href='file:///Users/pmarquez/miniforge3/envs/py38/lib/python3.8/site-packages/tensorflow/python/framework/constant_op.py?line=176'>177</a>\u001b[0m \n\u001b[1;32m    <a href='file:///Users/pmarquez/miniforge3/envs/py38/lib/python3.8/site-packages/tensorflow/python/framework/constant_op.py?line=177'>178</a>\u001b[0m \u001b[39m  Note: All eager `tf.Tensor` values are immutable (in contrast to\u001b[39;00m\n\u001b[0;32m   (...)\u001b[0m\n\u001b[1;32m    <a href='file:///Users/pmarquez/miniforge3/envs/py38/lib/python3.8/site-packages/tensorflow/python/framework/constant_op.py?line=268'>269</a>\u001b[0m \u001b[39m    ValueError: if called on a symbolic tensor.\u001b[39;00m\n\u001b[1;32m    <a href='file:///Users/pmarquez/miniforge3/envs/py38/lib/python3.8/site-packages/tensorflow/python/framework/constant_op.py?line=269'>270</a>\u001b[0m \u001b[39m  \"\"\"\u001b[39;00m\n\u001b[0;32m--> <a href='file:///Users/pmarquez/miniforge3/envs/py38/lib/python3.8/site-packages/tensorflow/python/framework/constant_op.py?line=270'>271</a>\u001b[0m   \u001b[39mreturn\u001b[39;00m _constant_impl(value, dtype, shape, name, verify_shape\u001b[39m=\u001b[39;49m\u001b[39mFalse\u001b[39;49;00m,\n\u001b[1;32m    <a href='file:///Users/pmarquez/miniforge3/envs/py38/lib/python3.8/site-packages/tensorflow/python/framework/constant_op.py?line=271'>272</a>\u001b[0m                         allow_broadcast\u001b[39m=\u001b[39;49m\u001b[39mTrue\u001b[39;49;00m)\n",
      "File \u001b[0;32m~/miniforge3/envs/py38/lib/python3.8/site-packages/tensorflow/python/framework/constant_op.py:283\u001b[0m, in \u001b[0;36m_constant_impl\u001b[0;34m(value, dtype, shape, name, verify_shape, allow_broadcast)\u001b[0m\n\u001b[1;32m    <a href='file:///Users/pmarquez/miniforge3/envs/py38/lib/python3.8/site-packages/tensorflow/python/framework/constant_op.py?line=280'>281</a>\u001b[0m     \u001b[39mwith\u001b[39;00m trace\u001b[39m.\u001b[39mTrace(\u001b[39m\"\u001b[39m\u001b[39mtf.constant\u001b[39m\u001b[39m\"\u001b[39m):\n\u001b[1;32m    <a href='file:///Users/pmarquez/miniforge3/envs/py38/lib/python3.8/site-packages/tensorflow/python/framework/constant_op.py?line=281'>282</a>\u001b[0m       \u001b[39mreturn\u001b[39;00m _constant_eager_impl(ctx, value, dtype, shape, verify_shape)\n\u001b[0;32m--> <a href='file:///Users/pmarquez/miniforge3/envs/py38/lib/python3.8/site-packages/tensorflow/python/framework/constant_op.py?line=282'>283</a>\u001b[0m   \u001b[39mreturn\u001b[39;00m _constant_eager_impl(ctx, value, dtype, shape, verify_shape)\n\u001b[1;32m    <a href='file:///Users/pmarquez/miniforge3/envs/py38/lib/python3.8/site-packages/tensorflow/python/framework/constant_op.py?line=284'>285</a>\u001b[0m g \u001b[39m=\u001b[39m ops\u001b[39m.\u001b[39mget_default_graph()\n\u001b[1;32m    <a href='file:///Users/pmarquez/miniforge3/envs/py38/lib/python3.8/site-packages/tensorflow/python/framework/constant_op.py?line=285'>286</a>\u001b[0m tensor_value \u001b[39m=\u001b[39m attr_value_pb2\u001b[39m.\u001b[39mAttrValue()\n",
      "File \u001b[0;32m~/miniforge3/envs/py38/lib/python3.8/site-packages/tensorflow/python/framework/constant_op.py:308\u001b[0m, in \u001b[0;36m_constant_eager_impl\u001b[0;34m(ctx, value, dtype, shape, verify_shape)\u001b[0m\n\u001b[1;32m    <a href='file:///Users/pmarquez/miniforge3/envs/py38/lib/python3.8/site-packages/tensorflow/python/framework/constant_op.py?line=305'>306</a>\u001b[0m \u001b[39mdef\u001b[39;00m \u001b[39m_constant_eager_impl\u001b[39m(ctx, value, dtype, shape, verify_shape):\n\u001b[1;32m    <a href='file:///Users/pmarquez/miniforge3/envs/py38/lib/python3.8/site-packages/tensorflow/python/framework/constant_op.py?line=306'>307</a>\u001b[0m   \u001b[39m\"\"\"Creates a constant on the current device.\"\"\"\u001b[39;00m\n\u001b[0;32m--> <a href='file:///Users/pmarquez/miniforge3/envs/py38/lib/python3.8/site-packages/tensorflow/python/framework/constant_op.py?line=307'>308</a>\u001b[0m   t \u001b[39m=\u001b[39m convert_to_eager_tensor(value, ctx, dtype)\n\u001b[1;32m    <a href='file:///Users/pmarquez/miniforge3/envs/py38/lib/python3.8/site-packages/tensorflow/python/framework/constant_op.py?line=308'>309</a>\u001b[0m   \u001b[39mif\u001b[39;00m shape \u001b[39mis\u001b[39;00m \u001b[39mNone\u001b[39;00m:\n\u001b[1;32m    <a href='file:///Users/pmarquez/miniforge3/envs/py38/lib/python3.8/site-packages/tensorflow/python/framework/constant_op.py?line=309'>310</a>\u001b[0m     \u001b[39mreturn\u001b[39;00m t\n",
      "File \u001b[0;32m~/miniforge3/envs/py38/lib/python3.8/site-packages/tensorflow/python/framework/constant_op.py:106\u001b[0m, in \u001b[0;36mconvert_to_eager_tensor\u001b[0;34m(value, ctx, dtype)\u001b[0m\n\u001b[1;32m    <a href='file:///Users/pmarquez/miniforge3/envs/py38/lib/python3.8/site-packages/tensorflow/python/framework/constant_op.py?line=103'>104</a>\u001b[0m     dtype \u001b[39m=\u001b[39m dtypes\u001b[39m.\u001b[39mas_dtype(dtype)\u001b[39m.\u001b[39mas_datatype_enum\n\u001b[1;32m    <a href='file:///Users/pmarquez/miniforge3/envs/py38/lib/python3.8/site-packages/tensorflow/python/framework/constant_op.py?line=104'>105</a>\u001b[0m ctx\u001b[39m.\u001b[39mensure_initialized()\n\u001b[0;32m--> <a href='file:///Users/pmarquez/miniforge3/envs/py38/lib/python3.8/site-packages/tensorflow/python/framework/constant_op.py?line=105'>106</a>\u001b[0m \u001b[39mreturn\u001b[39;00m ops\u001b[39m.\u001b[39;49mEagerTensor(value, ctx\u001b[39m.\u001b[39;49mdevice_name, dtype)\n",
      "\u001b[0;31mKeyboardInterrupt\u001b[0m: "
     ]
    },
    {
     "data": {
      "image/png": "[encoded data removed]",
      "text/plain": [
       "<Figure size 432x288 with 1 Axes>"
      ]
     },
     "metadata": {
      "needs_background": "light"
     },
     "output_type": "display_data"
    },
    {
     "data": {
      "image/png": "[encoded data removed]",
      "text/plain": [
       "<Figure size 432x288 with 1 Axes>"
      ]
     },
     "metadata": {
      "needs_background": "light"
     },
     "output_type": "display_data"
    },
    {
     "data": {
      "image/png": "[encoded data removed]",
      "text/plain": [
       "<Figure size 432x288 with 1 Axes>"
      ]
     },
     "metadata": {
      "needs_background": "light"
     },
     "output_type": "display_data"
    }
   ],
   "source": [
    "gen_variables = gen.variables\n",
    "disc_variables = disc.variables\n",
    "\n",
    "initial_learning_rate = 0.1\n",
    "lr_schedule = tf.keras.optimizers.schedules.ExponentialDecay(\n",
    "    initial_learning_rate,\n",
    "    decay_steps=1000,\n",
    "    decay_rate=0.96,\n",
    "    staircase=True)\n",
    "\n",
    "generator_optimizer = tf.keras.optimizers.RMSprop(learning_rate=lr_schedule)\n",
    "discriminator_optimizer = tf.keras.optimizers.RMSprop(learning_rate=lr_schedule)\n",
    "\n",
    "noise_dim = 2\n",
    "\n",
    "@tf.function\n",
    "def train_step(X):\n",
    "    noise = tf.random.uniform([batch_size, noise_dim])\n",
    "\n",
    "    dist = []\n",
    "\n",
    "    with tf.GradientTape() as gen_tape, tf.GradientTape() as disc_tape:\n",
    "      generated_images = gen(noise, training=True)\n",
    "\n",
    "      dist = tf.abs(tf.cast(generated_images, tf.float64) - X)\n",
    "\n",
    "      real_output = disc(X, training=True)\n",
    "      fake_output = disc(generated_images, training=True)\n",
    "\n",
    "      gen_loss = generator_loss(fake_output)\n",
    "      disc_loss = discriminator_loss(real_output, fake_output)\n",
    "\n",
    "    gradients_of_generator = gen_tape.gradient(gen_loss, gen.trainable_variables)\n",
    "    gradients_of_discriminator = disc_tape.gradient(disc_loss, disc.trainable_variables)\n",
    "\n",
    "    generator_optimizer.apply_gradients(zip(gradients_of_generator, gen.trainable_variables))\n",
    "    discriminator_optimizer.apply_gradients(zip(gradients_of_discriminator, disc.trainable_variables))\n",
    "\n",
    "    return gen_loss, disc_loss, dist\n",
    "\n",
    "list_gen_loss = []\n",
    "list_disc_loss = []\n",
    "dists = []\n",
    "for step in range(20001):\n",
    "  X = sample_data(n=batch_size)\n",
    "  gen_loss, disc_loss, dist = train_step(X)\n",
    "  list_gen_loss.append(gen_loss.numpy())\n",
    "  list_disc_loss.append(disc_loss.numpy())\n",
    "  dists.append(dist.numpy().mean())\n",
    "                           \n",
    "  \n",
    "\n",
    "  if step % 100 == 0:\n",
    "    print(f'Gen. Mean squared error: {gen_loss.numpy():0.3f}')\n",
    "    print(f'Disc. Mean squared error: {disc_loss.numpy():0.3f}')\n",
    "    print(f'Distance: {dist.numpy().mean():0.3f}')\n",
    "\n",
    "  if dist.numpy().mean() < 0.1:\n",
    "    print_values(gen)\n",
    "    print(f'Early stop: {gen_loss.numpy():0.3f}')\n",
    "    break\n",
    "\n",
    "  if step % 5000 == 0:\n",
    "    print_values(gen)\n"
   ]
  },
  {
   "cell_type": "code",
   "execution_count": 68,
   "metadata": {},
   "outputs": [
    {
     "data": {
      "text/plain": [
       "[<matplotlib.lines.Line2D at 0x2843dc880>]"
      ]
     },
     "execution_count": 68,
     "metadata": {},
     "output_type": "execute_result"
    },
    {
     "data": {
      "image/png": "[encoded data removed]",
      "text/plain": [
       "<Figure size 432x288 with 1 Axes>"
      ]
     },
     "metadata": {
      "needs_background": "light"
     },
     "output_type": "display_data"
    },
    {
     "data": {
      "image/png": "[encoded data removed]",
      "text/plain": [
       "<Figure size 432x288 with 1 Axes>"
      ]
     },
     "metadata": {
      "needs_background": "light"
     },
     "output_type": "display_data"
    }
   ],
   "source": [
    "plt.plot(list_gen_loss, label=\"Gen\")\n",
    "plt.plot(list_disc_loss, label=\"Disc\")\n",
    "plt.figure()\n",
    "plt.plot(dists)"
   ]
  },
  {
   "cell_type": "code",
   "execution_count": 64,
   "metadata": {},
   "outputs": [
    {
     "data": {
      "image/png": "[encoded data removed]",
      "text/plain": [
       "<Figure size 432x288 with 1 Axes>"
      ]
     },
     "metadata": {
      "needs_background": "light"
     },
     "output_type": "display_data"
    },
    {
     "data": {
      "image/png": "[encoded data removed]",
      "text/plain": [
       "<Figure size 432x288 with 1 Axes>"
      ]
     },
     "metadata": {
      "needs_background": "light"
     },
     "output_type": "display_data"
    }
   ],
   "source": [
    "X = sample_data(n=batch_size)\n",
    "plot(X)\n",
    "\n",
    "Z = tf.random.uniform([batch_size, 2])\n",
    "plt.figure()\n",
    "\n",
    "x_gen = gen(Z, training=False)\n",
    "\n",
    "plot(x_gen)\n"
   ]
  }
 ],
 "metadata": {
  "interpreter": {
   "hash": "ed5374611bcf90221bd75782e893964b5b72770440879309a855c90ba9cd27bc"
  },
  "kernelspec": {
   "display_name": "Python 3.9.2 64-bit ('3.9.2')",
   "language": "python",
   "name": "python3"
  },
  "language_info": {
   "codemirror_mode": {
    "name": "ipython",
    "version": 3
   },
   "file_extension": ".py",
   "mimetype": "text/x-python",
   "name": "python",
   "nbconvert_exporter": "python",
   "pygments_lexer": "ipython3",
   "version": "3.8.12"
  },
  "orig_nbformat": 4
 },
 "nbformat": 4,
 "nbformat_minor": 2
}
